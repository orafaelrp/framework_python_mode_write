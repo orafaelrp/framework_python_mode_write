{
 "cells": [
  {
   "cell_type": "markdown",
   "metadata": {
    "application/vnd.databricks.v1+cell": {
     "cellMetadata": {},
     "inputWidgets": {},
     "nuid": "8b1c9e7a-196c-440e-9853-2f34327e130a",
     "showTitle": false,
     "tableResultSettingsMap": {},
     "title": ""
    }
   },
   "source": [
    "\n",
    "**Dados EXP:**\n",
    "\n",
    "**1-)** Nome da EXP: exp_fluxo_de_caixa_pj.nome_tabela\n",
    "\n",
    "**2-)** Solicitante: Nome ou e-mail do solicitante\n",
    "\n",
    "----\n",
    "\n",
    "| LDAP EXECUTOR  |  DATA |  AÇÃO  |    OBSERVAÇÃO\n",
    "|-|-|-|-\n",
    "|seu_ldap|09/11/1851 |Construção da exp | Criação de exp com dados da Diana\n",
    "|seu_ldap|09/11/1851|Correção de exp | Refatoração do código do frame mod_databricks_v3 para diana_framework \n",
    "|seu_ldap|09/11/1851 |Alteração de exp | Alteração na regra de negócio... xyz"
   ]
  },
  {
   "cell_type": "code",
   "execution_count": 0,
   "metadata": {
    "application/vnd.databricks.v1+cell": {
     "cellMetadata": {
      "byteLimit": 2048000,
      "rowLimit": 10000
     },
     "inputWidgets": {},
     "nuid": "7ef2b7dd-a4f2-415d-a1d7-569268b4c90f",
     "showTitle": true,
     "tableResultSettingsMap": {},
     "title": "Caminho Absoluto"
    }
   },
   "outputs": [],
   "source": [
    "%run /Workspace/Users/seu_e-mail@banco_cooperativo.com.br/repositorio_exps/utils/Diana_framework/diana_framework"
   ]
  },
  {
   "cell_type": "code",
   "execution_count": 0,
   "metadata": {
    "application/vnd.databricks.v1+cell": {
     "cellMetadata": {
      "byteLimit": 2048000,
      "rowLimit": 10000
     },
     "inputWidgets": {},
     "nuid": "0820e03e-bbbf-4abb-b8df-a8a9c0389916",
     "showTitle": true,
     "tableResultSettingsMap": {},
     "title": "Framework Diana"
    }
   },
   "outputs": [],
   "source": [
    "%run ../../utils/Diana_framework/diana_framework"
   ]
  },
  {
   "cell_type": "code",
   "execution_count": 0,
   "metadata": {
    "application/vnd.databricks.v1+cell": {
     "cellMetadata": {
      "byteLimit": 2048000,
      "rowLimit": 10000
     },
     "inputWidgets": {},
     "nuid": "81a1f490-fe44-4fb7-9fb8-7c0f1ecc40f5",
     "showTitle": true,
     "tableResultSettingsMap": {},
     "title": "Query Denodo"
    }
   },
   "outputs": [],
   "source": [
    "# Modelo de consulta exclusiva para o Denodo\n",
    "query_dnd = \"\"\"\n",
    "    SELECT \n",
    "        current_date() as data_dnd\n",
    "    FROM \n",
    "        portabilidade_ativa_solicitacoes_cas\n",
    "\"\"\"\n",
    "TableManager.create_temp_view_from_denodo(query_dnd, \"TEMP_DND\")"
   ]
  },
  {
   "cell_type": "code",
   "execution_count": 0,
   "metadata": {
    "application/vnd.databricks.v1+cell": {
     "cellMetadata": {
      "byteLimit": 2048000,
      "rowLimit": 10000
     },
     "inputWidgets": {},
     "nuid": "533383f1-58e6-4f82-860c-8cd9f7b161c0",
     "showTitle": true,
     "tableResultSettingsMap": {},
     "title": "Query Teradata"
    }
   },
   "outputs": [],
   "source": [
    "# Modelo de consulta exclusiva para o Teradata\n",
    "query_teradata = \"\"\"\n",
    "    SELECT TOP 1\n",
    "       current_date() as data_tera\n",
    "    FROM \n",
    "        P_APP_CREDITO_T.PROD_SUP_COMERCIAL\n",
    "\"\"\"\n",
    "TableManager.create_temp_view_from_tera(query_teradata, \"TEMP_TERA\")"
   ]
  },
  {
   "cell_type": "code",
   "execution_count": 0,
   "metadata": {
    "application/vnd.databricks.v1+cell": {
     "cellMetadata": {
      "byteLimit": 2048000,
      "rowLimit": 10000
     },
     "inputWidgets": {},
     "nuid": "a3df82eb-0df3-4ec1-af08-af3686ea455d",
     "showTitle": true,
     "tableResultSettingsMap": {},
     "title": "Query Lake"
    }
   },
   "outputs": [],
   "source": [
    "# Modelo de consulta exclusiva para Lake banco_cooperativo (REF ou EXP)\n",
    "query_ref = \"\"\"\n",
    "    SELECT \n",
    "       current_date() as data_ref\n",
    "    FROM \n",
    "        banco_cooperativo_CAS.REF_ORACLE_COREDBPDB_AGUNICO.CCR0ASSO A\n",
    "    LIMIT 1\n",
    "\"\"\"\n",
    "TableManager.create_temp_view(query_ref, \"TEMP_REF\")"
   ]
  },
  {
   "cell_type": "code",
   "execution_count": 0,
   "metadata": {
    "application/vnd.databricks.v1+cell": {
     "cellMetadata": {
      "byteLimit": 2048000,
      "rowLimit": 10000
     },
     "inputWidgets": {},
     "nuid": "7436d67a-90a4-406e-8bf4-7d0995bb1682",
     "showTitle": true,
     "tableResultSettingsMap": {},
     "title": "Query Final"
    }
   },
   "outputs": [],
   "source": [
    "# Modelo de consulta final apra a criação do objeto\n",
    "query_final = \"\"\"\n",
    "    SELECT\n",
    "        \"ANO_MES\" AS ANO_MES\n",
    "        , \"COD_CENTRAL\" AS COD_CENTRAL\n",
    "        , \"COD_COOP\" AS COD_COOP\n",
    "        , \"COD_AGENCIA\" AS COD_AGENCIA\n",
    "        , \"NOME_AGENCIA\" AS NOME_AGENCIA\n",
    "        , \"COD_CARTEIRA\" AS COD_CARTEIRA\n",
    "        , \"CPF_CNPJ\" AS CPF_CNPJ\n",
    "        , \"NOME_ASSOCIADO\" AS NOME_ASSOCIADO\n",
    "        , \"NOME_CARTEIRA\" AS NOME_CARTEIRA\n",
    "        , \"NOME_GESTOR_CARTEIRA\" AS NOME_GESTOR_CARTEIRA\n",
    "        , \"NUM_CONTA\" AS NUM_CONTA\n",
    "        , \"FILTRO_ANO_MES_INICIAL\" AS FILTRO_ANO_MES_INICIAL\n",
    "        , \"FILTRO_ANO_MES_FINAL\" AS FILTRO_ANO_MES_FINAL\n",
    "        , \"ID_FATURAMENTO\" AS ID_FATURAMENTO\n",
    "        , \"NOME_EMPRESA\" AS NOME_EMPRESA\n",
    "        , \"CANAL\" AS CANAL\n",
    "        , \"SUB_CANAL\" AS SUB_CANAL\n",
    "        , \"COMISSAO_VALOR\" AS COMISSAO_VALOR\n",
    "        , \"CONDICAO\" AS CONDICAO\n",
    "        , \"DATA_EMISSAO_NF\" AS DATA_EMISSAO_NF\n",
    "        , \"FATURAMENTO\" AS FATURAMENTO\n",
    "        , \"ID_DOC_FISCAL\" AS ID_DOC_FISCAL\n",
    "        , \"LINHA\" AS LINHA\n",
    "        , \"NUM_BENEFICIARIOS\" AS NUM_BENEFICIARIOS\n",
    "        , \"NUMERO_PEDIDO\" AS NUMERO_PEDIDO\n",
    "        , \"PRAZO\" AS PRAZO\n",
    "        , \"PRODUTO\" AS PRODUTO\n",
    "\"\"\"\n",
    "TableManager.create_temp_view(query_final, \"TABELA_TESTE_FRAMEWORK\")"
   ]
  },
  {
   "cell_type": "code",
   "execution_count": 0,
   "metadata": {
    "application/vnd.databricks.v1+cell": {
     "cellMetadata": {
      "byteLimit": 2048000,
      "rowLimit": 10000
     },
     "inputWidgets": {},
     "nuid": "ebac22c9-3014-4317-afab-053d7c1f11d5",
     "showTitle": true,
     "tableResultSettingsMap": {},
     "title": "Configuração Objeto"
    }
   },
   "outputs": [],
   "source": [
    "# Modelo do preenchimento do comando \"table_columns\"\n",
    "TableManager.table_columns = [\n",
    "    ['ANO_MES', 'integer', 'Ano e mês da informação (formato YYYYMM)'],\n",
    "    ['COD_CENTRAL', 'string', 'Código da Central (de 4 dígitos, ex: 1000)'],\n",
    "    ['COD_COOP', 'string', 'Código da Cooperativa (de 4 dígitos, ex: 0101)'],\n",
    "    ['COD_AGENCIA', 'string', 'Código da Agência (de 2 dígitos, ex: 02)'],\n",
    "    ['NOME_AGENCIA', 'string', 'Nome da Agencia do banco_cooperativo'],\n",
    "    ['COD_CARTEIRA', 'string', 'Código da Carteira de relacionamento (até 6 dígitos, ex: 121 ou 010101)'],\n",
    "    ['CPF_CNPJ', 'string', 'Número do CPF ou CNPJ da pessoa (campo de texto, porém sem formato, ex: 00022233344)'],\n",
    "    ['NOME_ASSOCIADO', 'string', 'Nome do associado'],\n",
    "    ['NOME_CARTEIRA', 'string', 'Nome da carteira de relacionamento'],\n",
    "    ['NOME_GESTOR_CARTEIRA', 'string', 'Nome do gestor da carteira de relacionamento'],\n",
    "    ['NUM_CONTA', 'string', 'Número da conta, seja associado ou não'],\n",
    "    ['FILTRO_ANO_MES_INICIAL', 'integer', 'Filtro de ano e mês da informação (formato YYYYMM)'],\n",
    "    ['FILTRO_ANO_MES_FINAL', 'integer', 'Filtro de ano e mês da informação (formato YYYYMM)'],\n",
    "    ['ID_FATURAMENTO', 'string', 'ID do registro'],\n",
    "    ['NOME_EMPRESA', 'string', 'Nome do Empresa (Associado PJ) indicado na nota fiscal'],\n",
    "    ['CANAL', 'string', 'Parceiro elegível ao pagamento de comissão'],\n",
    "    ['SUB_CANAL', 'string', 'Sub canal do parceiro associado a venda - Nome da Agencia'],\n",
    "    ['COMISSAO_VALOR', 'string', 'Valor da comissão calculada para o canal'],\n",
    "    ['CONDICAO', 'string', 'Informação do Rebate ou VR Fidelidade do contrato do RH'],\n",
    "    ['DATA_EMISSAO_NF', 'Timestamp', 'Data da emissão da nota fiscal'],\n",
    "    ['FATURAMENTO', 'string', 'Valor creditado nos cartões'],\n",
    "    ['ID_DOC_FISCAL', 'string', 'Código da nota fiscal'],\n",
    "    ['LINHA', 'string', 'Quantidade de linhas da nota fiscal'],\n",
    "    ['NUM_BENEFICIARIOS', 'string', 'Quantidade de funcionários indicados na nota fiscal'],\n",
    "    ['NUMERO_PEDIDO', 'string', 'Número de pedido do RH (Associado PJ) gerador da nota fiscal'],\n",
    "    ['PRAZO', 'string', 'Qual o prazo para o pagamento das notas fiscais do RH (Associado PJ)  com a VR'],\n",
    "    ['PRODUTO', 'string', 'Produto indicado na nota fiscal'],\n",
    "]\n",
    "\n",
    "## Chave primária da tabela (Evite deixar este campo vazio)\n",
    "TableManager.table_pk = ['ANO_MES', 'COD_CENTRAL'] \n",
    "\n",
    "## Particionamento da tabela (Cuidado ao particionar a tabela)\n",
    "#TableManager.table_partition = ['ANO_MES']\n",
    "\n",
    "## Comentário da tabela\n",
    "TableManager.table_comment = \"Tabela modelo para criação de objeto via framework Diana\"\n",
    "\n",
    "## Nome da tabela\n",
    "TableManager.source_view = \"TABELA_TESTE_FRAMEWORK\"\n",
    "\n",
    "## Nome do schema\n",
    "TableManager.schema_name = \"exp_fluxo_de_caixa_pj\"\n",
    "\n",
    "print(TableManager.schema_name + \".\" + TableManager.source_view)"
   ]
  },
  {
   "cell_type": "code",
   "execution_count": 0,
   "metadata": {
    "application/vnd.databricks.v1+cell": {
     "cellMetadata": {
      "byteLimit": 2048000,
      "implicitDf": true,
      "rowLimit": 10000
     },
     "inputWidgets": {},
     "nuid": "d24db367-ca0a-4d47-8107-ac2edeee4a78",
     "showTitle": true,
     "tableResultSettingsMap": {},
     "title": "Comando Manager"
    }
   },
   "outputs": [],
   "source": [
    "## Validação de tabela\n",
    "TableManager.check_table()\n",
    "\n",
    "## Apagar a tabela e seus metadados\n",
    "#TableManager.drop_table()\n",
    " \n",
    "## Criar tabela com dados totais\n",
    "TableManager.create_table_overwrite()\n",
    "\n",
    "## Adicionar dados a uma tabela já existente\n",
    "#TableManager.create_table_append()\n",
    "\n",
    "## Adicionar e atualiza dados a uma tabela já existente\n",
    "#TableManager.create_table_upsert()\n",
    "\n",
    "## Carregar o visual de algumas linhas do objeto criado\n",
    "#TableManager.display_table()"
   ]
  }
 ],
 "metadata": {
  "application/vnd.databricks.v1+notebook": {
   "computePreferences": null,
   "dashboards": [],
   "environmentMetadata": {
    "base_environment": "",
    "environment_version": "2"
   },
   "inputWidgetPreferences": null,
   "language": "python",
   "notebookMetadata": {
    "mostRecentlyExecutedCommandWithImplicitDF": {
     "commandId": 3563452529077345,
     "dataframes": [
      "_sqldf"
     ]
    },
    "pythonIndentUnit": 4,
    "widgetLayout": [
     {
      "breakBefore": false,
      "name": "BU_Responsavel",
      "width": 166
     },
     {
      "breakBefore": false,
      "name": "Plataforma",
      "width": 166
     },
     {
      "breakBefore": false,
      "name": "Atualizacao",
      "width": 166
     }
    ]
   },
   "notebookName": "Note_modelo_tabela",
   "widgets": {
    "BU_Responsavel": {
     "currentValue": "",
     "nuid": "6ab0df33-3fe9-4c81-8790-44e695dd1d6f",
     "typedWidgetInfo": {
      "autoCreated": false,
      "defaultValue": "",
      "label": null,
      "name": "BU_Responsavel",
      "options": {
       "widgetDisplayType": "Dropdown",
       "choices": [
        "CH - Cheques",
        "CH - PJTech",
        "CH - PortalPJ",
        "CR - Descontos_Rotativos",
        "CR - Emprestimos_Financiamentos",
        "FL - Estrategia_PJ",
        "FL - Organizador_PJ",
        "FL - Pagamentos",
        "FL - Recebimentos",
        "PJ - Negocios_PJ_Cross",
        "PJ - Negocios_PJ_Eng"
       ],
       "fixedDomain": false,
       "multiselect": false
      },
      "parameterDataType": "String"
     },
     "widgetInfo": {
      "widgetType": "combobox",
      "defaultValue": "",
      "label": null,
      "name": "BU_Responsavel",
      "options": {
       "widgetType": "dropdown",
       "autoCreated": null,
       "choices": [
        "CH - Cheques",
        "CH - PJTech",
        "CH - PortalPJ",
        "CR - Descontos_Rotativos",
        "CR - Emprestimos_Financiamentos",
        "FL - Estrategia_PJ",
        "FL - Organizador_PJ",
        "FL - Pagamentos",
        "FL - Recebimentos",
        "PJ - Negocios_PJ_Cross",
        "PJ - Negocios_PJ_Eng"
       ]
      }
     }
    },
    "Periodo_Atualizacao": {
     "currentValue": "",
     "nuid": "0cb8e9e9-c83f-4c94-90d7-a130d82383a3",
     "typedWidgetInfo": {
      "autoCreated": false,
      "defaultValue": "",
      "label": null,
      "name": "Periodo_Atualizacao",
      "options": {
       "widgetDisplayType": "Dropdown",
       "choices": [
        "Diario",
        "Semanal",
        "Mensal",
        "Execucao Unica"
       ],
       "fixedDomain": false,
       "multiselect": false
      },
      "parameterDataType": "String"
     },
     "widgetInfo": {
      "widgetType": "combobox",
      "defaultValue": "",
      "label": null,
      "name": "Periodo_Atualizacao",
      "options": {
       "widgetType": "dropdown",
       "autoCreated": false,
       "choices": [
        "Diario",
        "Semanal",
        "Mensal",
        "Execucao Unica"
       ]
      }
     }
    },
    "Plataforma": {
     "currentValue": "",
     "nuid": "2f14f327-150d-4028-a4aa-5dc182053608",
     "typedWidgetInfo": {
      "autoCreated": false,
      "defaultValue": "",
      "label": null,
      "name": "Plataforma",
      "options": {
       "widgetDisplayType": "Dropdown",
       "choices": [
        "Denodo",
        "Exp Lake house",
        "Power_BI"
       ],
       "fixedDomain": false,
       "multiselect": false
      },
      "parameterDataType": "String"
     },
     "widgetInfo": {
      "widgetType": "combobox",
      "defaultValue": "",
      "label": null,
      "name": "Plataforma",
      "options": {
       "widgetType": "dropdown",
       "autoCreated": null,
       "choices": [
        "Denodo",
        "Exp Lake house",
        "Power_BI"
       ]
      }
     }
    }
   }
  },
  "language_info": {
   "name": "python"
  }
 },
 "nbformat": 4,
 "nbformat_minor": 0
}
