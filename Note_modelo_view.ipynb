{
 "cells": [
  {
   "cell_type": "markdown",
   "metadata": {
    "application/vnd.databricks.v1+cell": {
     "cellMetadata": {},
     "inputWidgets": {},
     "nuid": "8b1c9e7a-196c-440e-9853-2f34327e130a",
     "showTitle": false,
     "tableResultSettingsMap": {},
     "title": ""
    }
   },
   "source": [
    "\n",
    "**Dados EXP:**\n",
    "\n",
    "**1-)** Nome da EXP: exp_fluxo_de_caixa_pj.vw_nome_view\n",
    "\n",
    "**2-)** Solicitante: Nome ou e-mail do solicitante\n",
    "\n",
    "----\n",
    "\n",
    "| LDAP EXECUTOR  |  DATA |  AÇÃO  |    OBSERVAÇÃO                 \n",
    "|-|-|-|-\n",
    "|mula_mulinha| 09/11/1851 |Construção de view | View construída para ser visualizada pelos visualizadores que veêm o que deve ser visto"
   ]
  },
  {
   "cell_type": "code",
   "execution_count": 0,
   "metadata": {
    "application/vnd.databricks.v1+cell": {
     "cellMetadata": {
      "byteLimit": 2048000,
      "rowLimit": 10000
     },
     "inputWidgets": {},
     "nuid": "0820e03e-bbbf-4abb-b8df-a8a9c0389916",
     "showTitle": true,
     "tableResultSettingsMap": {},
     "title": "Framework Diana"
    }
   },
   "outputs": [],
   "source": [
    "%run ../../utils/Diana_framework/diana_framework"
   ]
  },
  {
   "cell_type": "code",
   "execution_count": 0,
   "metadata": {
    "application/vnd.databricks.v1+cell": {
     "cellMetadata": {
      "byteLimit": 2048000,
      "rowLimit": 10000
     },
     "inputWidgets": {},
     "nuid": "6610cb1e-4738-44cd-bfee-c205e3fc4235",
     "showTitle": true,
     "tableResultSettingsMap": {},
     "title": "Query View"
    }
   },
   "outputs": [],
   "source": [
    "# Modelo de consulta exclusiva para Lake banco_cooperativo (REF ou EXP)\n",
    "query_view = (\"\"\"\n",
    "SELECT\n",
    "    A.NUM_AG\n",
    "    , REPLACE(A.FCONTA, '-') AS FCONTA\n",
    "    , A.FTPPESS\n",
    "    , FCPF_CGC\n",
    "    , REGEXP_REPLACE(FCPF_CGC, '[./-]', '') AS FCPF_CGC_REFATORADO\n",
    "    , A.FCOPTSIMPL\n",
    "FROM\n",
    "    banco_cooperativo_CAS.REF_ORACLE_COREDBPDB_AGUNICO.CCR0ASSO A\n",
    "WHERE\n",
    "    A.IS_DELETED = 'N'\n",
    "LIMIT 10\n",
    "\"\"\")\n",
    "\n",
    "TableManager.query_view = query_view"
   ]
  },
  {
   "cell_type": "code",
   "execution_count": 0,
   "metadata": {
    "application/vnd.databricks.v1+cell": {
     "cellMetadata": {
      "byteLimit": 2048000,
      "rowLimit": 10000
     },
     "inputWidgets": {},
     "nuid": "e4a5883f-f120-458b-b478-3984bc1c3db1",
     "showTitle": true,
     "tableResultSettingsMap": {},
     "title": "Configuração Objeto"
    }
   },
   "outputs": [],
   "source": [
    "## Nome da view\n",
    "TableManager.name_view = \"nome_view\"\n",
    "\n",
    "## Nome do schema\n",
    "TableManager.schema_name = \"exp_fluxo_de_caixa_pj\"\n",
    "\n",
    "print(TableManager.schema_name + \".vw_\" + TableManager.name_view)"
   ]
  },
  {
   "cell_type": "code",
   "execution_count": 0,
   "metadata": {
    "application/vnd.databricks.v1+cell": {
     "cellMetadata": {
      "byteLimit": 2048000,
      "rowLimit": 10000
     },
     "inputWidgets": {},
     "nuid": "48119c8c-2c2d-42fc-8c4a-6f0aea2f10ca",
     "showTitle": true,
     "tableResultSettingsMap": {},
     "title": "Comando Manager"
    },
    "jupyter": {
     "outputs_hidden": true
    }
   },
   "outputs": [],
   "source": [
    "## Criar view com dados totais (atualização automática dos dados)\n",
    "TableManager.create_view()\n",
    "\n",
    "## Carregar o visual de algumas linhas do objeto criado\n",
    "#TableManager.display_view()"
   ]
  }
 ],
 "metadata": {
  "application/vnd.databricks.v1+notebook": {
   "computePreferences": null,
   "dashboards": [],
   "environmentMetadata": {
    "base_environment": "",
    "environment_version": "2"
   },
   "inputWidgetPreferences": null,
   "language": "python",
   "notebookMetadata": {
    "mostRecentlyExecutedCommandWithImplicitDF": {
     "commandId": 3225778131147483,
     "dataframes": [
      "_sqldf"
     ]
    },
    "pythonIndentUnit": 4
   },
   "notebookName": "Note_modelo_view",
   "widgets": {
    "BU_Responsavel": {
     "currentValue": "",
     "nuid": "d92b4947-3bbe-4399-b5a6-b64e726e6f69",
     "typedWidgetInfo": {
      "autoCreated": false,
      "defaultValue": "",
      "label": null,
      "name": "BU_Responsavel",
      "options": {
       "widgetDisplayType": "Dropdown",
       "choices": [
        "CH - Cheques",
        "CH - PJTech",
        "CH - PortalPJ",
        "CR - Descontos_Rotativos",
        "CR - Emprestimos_Financiamentos",
        "FL - Estrategia_PJ",
        "FL - Organizador_PJ",
        "FL - Pagamentos",
        "FL - Recebimentos",
        "PJ - Negocios_PJ_Cross",
        "PJ - Negocios_PJ_Eng"
       ],
       "fixedDomain": false,
       "multiselect": false
      },
      "parameterDataType": "String"
     },
     "widgetInfo": {
      "widgetType": "combobox",
      "defaultValue": "",
      "label": null,
      "name": "BU_Responsavel",
      "options": {
       "widgetType": "dropdown",
       "autoCreated": null,
       "choices": [
        "CH - Cheques",
        "CH - PJTech",
        "CH - PortalPJ",
        "CR - Descontos_Rotativos",
        "CR - Emprestimos_Financiamentos",
        "FL - Estrategia_PJ",
        "FL - Organizador_PJ",
        "FL - Pagamentos",
        "FL - Recebimentos",
        "PJ - Negocios_PJ_Cross",
        "PJ - Negocios_PJ_Eng"
       ]
      }
     }
    }
   }
  },
  "language_info": {
   "name": "python"
  }
 },
 "nbformat": 4,
 "nbformat_minor": 0
}
