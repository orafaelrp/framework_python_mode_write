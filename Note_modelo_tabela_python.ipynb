{
 "cells": [
  {
   "cell_type": "code",
   "execution_count": 0,
   "metadata": {
    "application/vnd.databricks.v1+cell": {
     "cellMetadata": {
      "byteLimit": 2048000,
      "rowLimit": 10000
     },
     "inputWidgets": {},
     "nuid": "56cdadfb-8072-4e57-a1f6-87477ec22146",
     "showTitle": true,
     "tableResultSettingsMap": {},
     "title": "Boas práticas PySpark e Python"
    }
   },
   "outputs": [],
   "source": [
    "# Mantenha seu código identado, organizado e comentado sempre que possível, tornando-o mais claro e facilitando a leitura e execução, tanto para você quanto para outras pessoas.\n",
    "\n",
    "# Evite trazer dados desnecessários para o seu projeto. Se você só precisa de 2 colunas de um total de 10, não é preciso trazer toda a tabela para ser processada. Traga apenas as 2 colunas desejadas.\n",
    "\n",
    "# Organize seu código de forma que cada consulta, tabela, conexão ou assunto seja alocado em uma célula separada, sempre nomeando a célula adequadamente.\n",
    "\n",
    "# Ao trabalhar com PySpark, utilize apenas as bibliotecas necessárias. Por exemplo, no caso de dados estruturados como deste projeto, a biblioteca pyspark.sql.functions é suficiente para executar esse serviço. Adicionar muitas bibliotecas pode aumentar o tempo de execução e causar conflitos entre os comandos de execução.\n",
    "\n",
    "# Diferente da sintaxe do SQL, o PySpark tem um código mais flexível. Neste sentido, quando possível aplique os comandos nesta ordem FILTER, SELECT, JOIN, GROUP BY, AGG, DISTINCT e LIMIT.\n",
    "\n",
    "# Evite usar comandos que exigem mais poder de processamento ou memória, como display, show, sort, persist, collect ou toPandas. Dependendo do tamanho do seu DataFrame, esses comandos podem sobrecarregar o sistema e tornar o projeto mais lento. Use-os apenas quando necessário.\n",
    "\n",
    "# Evite repetir a mesma string várias vezes, utilize variáveis ou constantes para situações repetitivas.\n",
    "\n",
    "# Evite criar objetos paralelos como exp's em DEV, INT ou qualquer outro formato que exija armazenamento físico. Isso pode aumentar os custos do projeto e tornar o processamento mais lento. Prefira trabalhar com visualizações temporárias(temp view), que são mais rápidas e eficientes, reduzindo o tempo de processamento e melhorando o desempenho do seu projeto.\n",
    "\n",
    "# Após concluir e testar seu projeto, remova todos os comandos e comentários desnecessários. Em seguida, salve e versione o projeto no repositório Git da equipe.\n",
    "\n",
    "# Em caso de dúvidas sobre a construção e ou padronização do seu código, consulte as regras internacionais do padrão Python PEP8 -> https://peps.python.org/pep-0008/#introduction"
   ]
  },
  {
   "cell_type": "code",
   "execution_count": 0,
   "metadata": {
    "application/vnd.databricks.v1+cell": {
     "cellMetadata": {
      "byteLimit": 2048000,
      "rowLimit": 10000
     },
     "inputWidgets": {},
     "nuid": "88915f4c-2c3c-4e91-b6ed-eccf984b9509",
     "showTitle": true,
     "tableResultSettingsMap": {},
     "title": "Projeto"
    }
   },
   "outputs": [],
   "source": [
    "# Projeto: Gerar a lista de associados que tiveram cheques emitidos no mês atual\n",
    "\n",
    "# Resposta: Cruzar a CCRASSO x CHQ_EMITIDOS\n",
    "# Colunas necessárias:  Oid do cheque, Valor do cheque, Coop e conta do assicoado, E-mail do associado"
   ]
  },
  {
   "cell_type": "markdown",
   "metadata": {
    "application/vnd.databricks.v1+cell": {
     "cellMetadata": {
      "byteLimit": 2048000,
      "rowLimit": 10000
     },
     "inputWidgets": {},
     "nuid": "8b1c9e7a-196c-440e-9853-2f34327e130a",
     "showTitle": false,
     "tableResultSettingsMap": {},
     "title": ""
    }
   },
   "source": [
    "\n",
    "**Dados EXP:**\n",
    "\n",
    "**1-)** Nome da EXP: exp_fluxo_de_caixa_pj.nome_tabela\n",
    "\n",
    "**2-)** Solicitante: Nome ou e-mail do solicitante\n",
    "\n",
    "----\n",
    "\n",
    "| LDAP EXECUTOR  |  DATA |  AÇÃO  |    OBSERVAÇÃO\n",
    "|-|-|-|-\n",
    "|seu_ldap|09/11/1851 |Construção da exp | Criação de exp com dados da Diana\n",
    "|seu_ldap|09/11/1851|Correção de exp | Refatoração do código do frame mod_databricks_v3 para diana_framework \n",
    "|seu_ldap|09/11/1851 |Alteração de exp | Alteração na regra de negócio... xyz"
   ]
  },
  {
   "cell_type": "markdown",
   "metadata": {
    "application/vnd.databricks.v1+cell": {
     "cellMetadata": {
      "byteLimit": 2048000,
      "rowLimit": 10000
     },
     "inputWidgets": {},
     "nuid": "7ef2b7dd-a4f2-415d-a1d7-569268b4c90f",
     "showTitle": true,
     "tableResultSettingsMap": {},
     "title": "Caminho Absoluto"
    }
   },
   "source": [
    "/Workspace/Users/seu_e-mail@banco_cooperativo.com.br/repositorio_exps/utils/Diana_framework/diana_framework"
   ]
  },
  {
   "cell_type": "code",
   "execution_count": 0,
   "metadata": {
    "application/vnd.databricks.v1+cell": {
     "cellMetadata": {
      "byteLimit": 2048000,
      "rowLimit": 10000
     },
     "inputWidgets": {},
     "nuid": "0820e03e-bbbf-4abb-b8df-a8a9c0389916",
     "showTitle": true,
     "tableResultSettingsMap": {},
     "title": "Framework Diana"
    }
   },
   "outputs": [],
   "source": [
    "%run ../../utils/Diana_framework/diana_framework"
   ]
  },
  {
   "cell_type": "code",
   "execution_count": 0,
   "metadata": {
    "application/vnd.databricks.v1+cell": {
     "cellMetadata": {
      "byteLimit": 2048000,
      "rowLimit": 10000
     },
     "inputWidgets": {},
     "nuid": "d774a515-7d48-414a-92b6-9d4ceb262641",
     "showTitle": true,
     "tableResultSettingsMap": {},
     "title": "Bibliotecas"
    }
   },
   "outputs": [],
   "source": [
    "from pyspark.sql.functions import *"
   ]
  },
  {
   "cell_type": "code",
   "execution_count": 0,
   "metadata": {
    "application/vnd.databricks.v1+cell": {
     "cellMetadata": {
      "byteLimit": 2048000,
      "rowLimit": 10000
     },
     "collapsed": true,
     "inputWidgets": {},
     "nuid": "81a1f490-fe44-4fb7-9fb8-7c0f1ecc40f5",
     "showTitle": true,
     "tableResultSettingsMap": {},
     "title": "Query Denodo"
    }
   },
   "outputs": [],
   "source": [
    "# Modelo de consulta exclusiva para o Denodo\n",
    "## As conexões teradata e Denodo devem seguir via comando SQL\n",
    "query_dnd = \"\"\"\n",
    "    SELECT \n",
    "        current_date() as data_dnd\n",
    "    FROM \n",
    "        portabilidade_ativa_solicitacoes_cas\n",
    "\"\"\"\n",
    "TableManager.create_temp_view_from_denodo(query_dnd, \"TEMP_DND\")"
   ]
  },
  {
   "cell_type": "code",
   "execution_count": 0,
   "metadata": {
    "application/vnd.databricks.v1+cell": {
     "cellMetadata": {
      "byteLimit": 2048000,
      "rowLimit": 10000
     },
     "collapsed": true,
     "inputWidgets": {},
     "nuid": "533383f1-58e6-4f82-860c-8cd9f7b161c0",
     "showTitle": true,
     "tableResultSettingsMap": {},
     "title": "Query Teradata"
    }
   },
   "outputs": [],
   "source": [
    "# Modelo de consulta exclusiva para o Teradata\n",
    "## As conexões teradata e Denodo devem seguir via comando SQL\n",
    "query_teradata = \"\"\"\n",
    "    SELECT TOP 1\n",
    "       current_date() as data_tera\n",
    "    FROM \n",
    "        P_APP_CREDITO_T.PROD_SUP_COMERCIAL\n",
    "\"\"\"\n",
    "TableManager.create_temp_view_from_tera(query_teradata, \"TEMP_TERA\")"
   ]
  },
  {
   "cell_type": "code",
   "execution_count": 0,
   "metadata": {
    "application/vnd.databricks.v1+cell": {
     "cellMetadata": {
      "byteLimit": 2048000,
      "rowLimit": 10000
     },
     "inputWidgets": {},
     "nuid": "36cfdacb-4098-4bb1-9a73-f2ff5abb10bf",
     "showTitle": true,
     "tableResultSettingsMap": {},
     "title": "DF_EMITIDOS"
    }
   },
   "outputs": [],
   "source": [
    "# Passo a passo para entendimento básico\n",
    "\n",
    "# Passo 1 - Fazer a conexão com a tabela desejada\n",
    "df_emitidos = spark.table(\"banco_cooperativo_CAS.EXP_FLUXO_DE_CAIXA_PJ.CHQ_EMITIDOS\")\n",
    "\n",
    "# Passo 2 - Se possível filtrar os dados inicialmente\n",
    "df_emitidos = df_emitidos.filter(month(df_emitidos['dat_apresentacao']) == month(current_date()))\n",
    "\n",
    "# Passo 3 - Selecionar as colunas dos dados já filtrados\n",
    "df_emitidos = df_emitidos.select(\"cod_cooperativa\",\"cod_agencia\",\"num_conta\",\"dat_apresentacao\",\"oid_cheque\",\"num_cpf_cnpj\",\"vlr_cheque\")"
   ]
  },
  {
   "cell_type": "code",
   "execution_count": 0,
   "metadata": {
    "application/vnd.databricks.v1+cell": {
     "cellMetadata": {
      "byteLimit": 2048000,
      "rowLimit": 10000
     },
     "inputWidgets": {},
     "nuid": "253cb518-c03b-47ca-a533-191e1536ba4c",
     "showTitle": true,
     "tableResultSettingsMap": {},
     "title": "DF_ASSO"
    }
   },
   "outputs": [],
   "source": [
    "# Aqui estão alguns exemplos de consulta que geram o mesmo resultado, porém cada um é executado de uma maneira diferente. Isso mostra a diversidade que a linguagem PySpark pode oferecer.\n",
    "\n",
    "# Ex.:1 Modelo mais esperado\n",
    "df_asso = spark.table(\"banco_cooperativo_CAS.REF_ORACLE_COREDBPDB_AGUNICO.CCR0ASSO\")\n",
    "df_asso = df_asso.filter(df_asso[\"is_deleted\"] == \"N\") \\\n",
    "    .select(\"NUM_AG\", \"FCONTA\", \"FCPF_CGC\", \"fcemail\") \\\n",
    "    .withColumn(\"FCONTA\", regexp_replace(df_asso[\"FCONTA\"], \"-\", \"\")) \\\n",
    "    .distinct()\n",
    "\n",
    "\n",
    "# Ex.:2 Modelo mais didático\n",
    "df_asso = spark.table(\"banco_cooperativo_CAS.REF_ORACLE_COREDBPDB_AGUNICO.CCR0ASSO\")\n",
    "df_asso = df_asso.filter(df_asso[\"is_deleted\"] == \"N\")\n",
    "df_asso = df_asso.select(\"NUM_AG\", \"FCONTA\", \"FCPF_CGC\", \"fcemail\")\n",
    "df_asso = df_asso.withColumn(\"FCONTA\", regexp_replace(df_asso[\"FCONTA\"], \"-\", \"\"))\n",
    "df_asso = df_asso.distinct()\n",
    "\n",
    "\n",
    "# Ex.: 3 Modelo mais enxuto\n",
    "df_asso = (\n",
    "    spark.table(\"banco_cooperativo_CAS.REF_ORACLE_COREDBPDB_AGUNICO.CCR0ASSO\")\n",
    "    .filter(\"is_deleted = 'N'\")\n",
    "    .select(\"NUM_AG\", \"FCONTA\", \"FCPF_CGC\", \"fcemail\")\n",
    "    .withColumn(\"FCONTA\", regexp_replace(col(\"FCONTA\"), \"-\", \"\"))\n",
    "    .distinct()\n",
    ")\n",
    "\n",
    "\n",
    "# Ex.: 4 Modelo sem quebra de linhas\n",
    "df_asso = spark.table(\"banco_cooperativo_CAS.REF_ORACLE_COREDBPDB_AGUNICO.CCR0ASSO\")\n",
    "df_asso = (\n",
    "    df_asso.filter(df_asso[\"is_deleted\"] == \"N\")\n",
    "    .select(\"NUM_AG\", \"FCONTA\", \"FCPF_CGC\", \"fcemail\")\n",
    "    .withColumn(\"FCONTA\", regexp_replace(df_asso[\"FCONTA\"], \"-\", \"\"))\n",
    "    .distinct()\n",
    ")\n",
    "\n",
    "\n",
    "# Ex.: 5 Modelo com interação SQL\n",
    "df_asso = spark.sql(\"\"\"\n",
    "    SELECT DISTINCT\n",
    "        NUM_AG\n",
    "        , REPLACE(FCONTA,\"-\", \"\") AS FCONTA\n",
    "        , FCPF_CGC\n",
    "        , fcemail\n",
    "    FROM\n",
    "        banco_cooperativo_CAS.REF_ORACLE_COREDBPDB_AGUNICO.CCR0ASSO\n",
    "    WHERE is_deleted = 'N'\n",
    "\"\"\")"
   ]
  },
  {
   "cell_type": "code",
   "execution_count": 0,
   "metadata": {
    "application/vnd.databricks.v1+cell": {
     "cellMetadata": {
      "byteLimit": 2048000,
      "rowLimit": 10000
     },
     "inputWidgets": {},
     "nuid": "7436d67a-90a4-406e-8bf4-7d0995bb1682",
     "showTitle": true,
     "tableResultSettingsMap": {},
     "title": "Query Final"
    }
   },
   "outputs": [],
   "source": [
    "# Neste exemplo foi utilizado left join para fazer a ligação entre os DataFrames. Assim os dados de df_emitidos são validados no df_asso. Outros exemplos de join podem ser o rigth, inner e outer.\n",
    "\n",
    "df_final = df_emitidos.join(\n",
    "    df_asso, \n",
    "    on=[\n",
    "        (df_emitidos[\"cod_cooperativa\"] == df_asso[\"NUM_AG\"]), \n",
    "        (df_emitidos[\"num_conta\"] == df_asso[\"FCONTA\"])\n",
    "    ], \n",
    "    how='left'\n",
    ")\n",
    "\n",
    "df_final = df_final.select(\"cod_cooperativa\",\"num_conta\",\"num_cpf_cnpj\",\"dat_apresentacao\",\"oid_cheque\",\"FCPF_CGC\",\"fcemail\",\"vlr_cheque\").limit(10)\n",
    "df_final.createOrReplaceTempView(\"TABELA_TESTE_FRAMEWORK_PYTHON\")"
   ]
  },
  {
   "cell_type": "code",
   "execution_count": 0,
   "metadata": {
    "application/vnd.databricks.v1+cell": {
     "cellMetadata": {
      "byteLimit": 2048000,
      "rowLimit": 10000
     },
     "inputWidgets": {},
     "nuid": "ebac22c9-3014-4317-afab-053d7c1f11d5",
     "showTitle": true,
     "tableResultSettingsMap": {},
     "title": "Configuração Objeto"
    }
   },
   "outputs": [],
   "source": [
    "# Modelo do preenchimento do comando \"table_columns\"\n",
    "TableManager.table_columns = [\n",
    "    ['COD_COOPERATIVA', 'string', 'Código da Cooperativa'],\n",
    "    ['NUM_CONTA', 'string', 'Número da conta'],\n",
    "    ['NUM_CPF_CNPJ', 'string', 'Número do CPF ou CNPJ da pessoa (campo de texto, porém sem formato, ex: 00022233344)'],\n",
    "    ['DAT_APRESENTACAO', 'timestamp', 'Data da operação'],\n",
    "    ['OID_CHEQUE', 'string', 'OID do cheque'],\n",
    "    ['FCPF_CGC', 'string', 'FCPF/CGC'],\n",
    "    ['FCEMAIL', 'string', 'E-mail'],\n",
    "    ['VLR_CHEQUE', 'decimal', 'Valor do cheque']\n",
    "]\n",
    "\n",
    "## Chave primária da tabela (Evite deixar este campo vazio)\n",
    "TableManager.table_pk = ['cod_cooperativa', 'num_conta','dat_apresentacao','oid_cheque'] \n",
    "\n",
    "## Particionamento da tabela (Cuidado ao particionar a tabela)\n",
    "#TableManager.table_partition = ['ANO_MES']\n",
    "\n",
    "## Comentário da tabela\n",
    "TableManager.table_comment = \"Tabela modelo para criação de objeto via framework Diana em linguagem Python\"\n",
    "\n",
    "## Nome da tabela\n",
    "TableManager.source_view = \"TABELA_TESTE_FRAMEWORK_PYTHON\"\n",
    "\n",
    "## Nome do schema\n",
    "TableManager.schema_name = \"exp_fluxo_de_caixa_pj\"\n",
    "\n",
    "print(TableManager.schema_name + \".\" + TableManager.source_view)"
   ]
  },
  {
   "cell_type": "code",
   "execution_count": 0,
   "metadata": {
    "application/vnd.databricks.v1+cell": {
     "cellMetadata": {
      "byteLimit": 2048000,
      "implicitDf": true,
      "rowLimit": 10000
     },
     "inputWidgets": {},
     "nuid": "d24db367-ca0a-4d47-8107-ac2edeee4a78",
     "showTitle": true,
     "tableResultSettingsMap": {},
     "title": "Comando Manager"
    }
   },
   "outputs": [],
   "source": [
    "## Validação de tabela\n",
    "TableManager.check_table()\n",
    "\n",
    "## Apagar a tabela e seus metadados\n",
    "#TableManager.drop_table()\n",
    " \n",
    "## Criar tabela com dados totais\n",
    "TableManager.create_table_overwrite()\n",
    "\n",
    "## Adicionar dados a uma tabela já existente\n",
    "#TableManager.create_table_append()\n",
    "\n",
    "## Adicionar e atualiza dados a uma tabela já existente\n",
    "#TableManager.create_table_upsert()\n",
    "\n",
    "## Carregar o visual de algumas linhas do objeto criado\n",
    "#TableManager.display_table()"
   ]
  },
  {
   "cell_type": "code",
   "execution_count": 0,
   "metadata": {
    "application/vnd.databricks.v1+cell": {
     "cellMetadata": {
      "byteLimit": 2048000,
      "rowLimit": 10000
     },
     "inputWidgets": {},
     "nuid": "e44c6e50-77c6-4002-9b7c-c414952ea610",
     "showTitle": true,
     "tableResultSettingsMap": {},
     "title": "Principais comandos  - PySpark"
    }
   },
   "outputs": [],
   "source": [
    "# Principais comandos PySpark para operação e tratamento de dados\n",
    "\n",
    "## Comando que seleciona e distingue os dados considerando os parametros informados\n",
    "df_emitidos_select = df_emitidos.select(\"cod_cooperativa\",\"oid_cheque\",\"vlr_cheque\").distinct()\n",
    "\n",
    "## Comando que retira duplicidades do df que sestá sendo tratado\n",
    "df_emitidos = df_emitidos.dropDuplicates([\"cod_cooperativa\",\"oid_cheque\"])\n",
    "df_emitidos = df_emitidos.dropDuplicates()\n",
    "\n",
    "## Comando para apagar uma coluna\n",
    "df_emitidos_drop_coluna = df_emitidos.drop(\"oid_cheque_substring\")\n",
    "\n",
    "## Comando que ordena os dados do df (desc, asc)\n",
    "df_emitidos_order_by = df_emitidos.orderBy(\"cod_cooperativa\", df_emitidos[\"cod_cooperativa\"].asc())\n",
    "\n",
    "## Comando que faz group by no df\n",
    "df_emitidos_group = df_emitidos.groupBy(\"cod_cooperativa\")\n",
    "\n",
    "## Comando que faz group by e faz agregação de valor no df (sum, max, min)\n",
    "df_emitidos_group_valor = df_emitidos.groupBy(\"cod_cooperativa\",\"vlr_cheque\").agg({\"vlr_cheque\":\"sum\"})\n",
    "\n",
    "## Comando para limitar os dados que serão carregados no df\n",
    "df_emitidos_limite = df_emitidos.limit(10)\n",
    "\n",
    "## Comando para renomear a coluna que já existe\n",
    "df_emitidos_coluna_renomeada = df_emitidos.withColumnRenamed(\"oid_cheque_substring\",\"oid_coluna_renomeada\")\n",
    "\n",
    "## Comando para adicionar um nova coluna\n",
    "df_emitidos_nova_coluna = df_emitidos.withColumn(\"oid_nova_coluna\", col(\"oid_cheque\"))\n",
    "\n",
    "# Comando para formatar os dados selecinados em formato de data\n",
    "df_emitidos_to_date = df_emitidos.withColumn(\"dat_apresentacao\", to_date(col(\"dat_apresentacao\")))\n",
    "\n",
    "## Comando para formatar o tipo da coluna (int, integer, strig, date, timestamp, decimal, float, boolean, bigint)\n",
    "df_emitidos_withColumn = df_emitidos.withColumn(\"cod_cooperativa\", df_emitidos[\"cod_cooperativa\"].cast(\"string\"))\n",
    "\n",
    "## Comando para retirar espaços da string\n",
    "df_emitidos_trim = df_emitidos.withColumn(\"oid_nova_coluna\", trim(col(\"oid_cheque\")))\n",
    "\n",
    "## Comando que substitui carácter dentro de uma string\n",
    "df_emitidos_replace = df_emitidos.withColumn(\"cod_cooperativa_replace\", regexp_replace(df_emitidos[\"cod_cooperativa\"], \"0\", \"@\"))\n",
    "\n",
    "## Comando para desmembrar uma string dentro de uma coluna\n",
    "df_emitidos_substring = df_emitidos.withColumn(\"oid_cheque_substring\", substring(col(\"oid_cheque\"), 1, 2))\n",
    "\n",
    "## Comando para tornar todas as letras maiusculas\n",
    "df_asso_upper = df_asso.withColumn(\"fcemail_upper\", upper(col(\"fcemail\")))\n",
    "\n",
    "## Comando para tornar todas as letras minusculas\n",
    "df_asso_lower = df_asso.withColumn(\"fcemail_minuscula\", lower(col(\"fcemail\")))\n",
    "\n",
    "## Comando para tornar a primeira letra maiuscula de todas as outras minusculas \n",
    "df_asso_initcap = df_asso.withColumn(\"fcemail_initcap\", initcap(col(\"fcemail\")))\n",
    "\n",
    "## Comando para arredondar uma coluna para um número inteiro\n",
    "df_emitidos_media = df_emitidos.withColumn(\"vlr_cheque\", round(col(\"vlr_cheque\")))\n",
    "\n",
    "# Comando para calcular a diferença entre duas datas\n",
    "df_emitidos_data_diferenca = df_emitidos.withColumn(\"data_diferenca\", datediff(col(\"dat_apresentacao\"), col(\"dat_apresentacao\")))\n",
    "\n",
    "## Comando que faz o describe do df selecionado\n",
    "#df_emitidos.describe()\n",
    "\n",
    "## Comando que faz o explode de um array\n",
    "#df_emitidos_explode = df_emitidos.withColumn(\"array_explode\", explode(col(\"array_explode\")))\n",
    "\n",
    "## Comando para contar as linhas do df\n",
    "#df_emitidos.count()\n",
    "\n",
    "## Comando para mostrar em tela o objeto gerado\n",
    "#display(df_emitidos)\n",
    "\n",
    "## Comando para criar uma temp view acessível em SQL\n",
    "#df_emitidos.createOrReplaceTempView(\"TABELA_TEMPORARIA_CHEQUE_EMITIDOS\")"
   ]
  }
 ],
 "metadata": {
  "application/vnd.databricks.v1+notebook": {
   "computePreferences": null,
   "dashboards": [],
   "environmentMetadata": {
    "base_environment": "",
    "environment_version": "2"
   },
   "inputWidgetPreferences": null,
   "language": "python",
   "notebookMetadata": {
    "mostRecentlyExecutedCommandWithImplicitDF": {
     "commandId": 5796917326306468,
     "dataframes": [
      "_sqldf"
     ]
    },
    "pythonIndentUnit": 4,
    "widgetLayout": [
     {
      "breakBefore": false,
      "name": "BU_Responsavel",
      "width": 166
     },
     {
      "breakBefore": false,
      "name": "Plataforma",
      "width": 166
     },
     {
      "breakBefore": false,
      "name": "Atualizacao",
      "width": 166
     }
    ]
   },
   "notebookName": "Note_modelo_tabela_python",
   "widgets": {
    "BU_Responsavel": {
     "currentValue": "",
     "nuid": "6ab0df33-3fe9-4c81-8790-44e695dd1d6f",
     "typedWidgetInfo": {
      "autoCreated": false,
      "defaultValue": "",
      "label": null,
      "name": "BU_Responsavel",
      "options": {
       "widgetDisplayType": "Dropdown",
       "choices": [
        "CH - Cheques",
        "CH - PJTech",
        "CH - PortalPJ",
        "CR - Descontos_Rotativos",
        "CR - Emprestimos_Financiamentos",
        "FL - Estrategia_PJ",
        "FL - Organizador_PJ",
        "FL - Pagamentos",
        "FL - Recebimentos",
        "PJ - Negocios_PJ_Cross",
        "PJ - Negocios_PJ_Eng"
       ],
       "fixedDomain": false,
       "multiselect": false
      },
      "parameterDataType": "String"
     },
     "widgetInfo": {
      "widgetType": "combobox",
      "defaultValue": "",
      "label": null,
      "name": "BU_Responsavel",
      "options": {
       "widgetType": "dropdown",
       "autoCreated": null,
       "choices": [
        "CH - Cheques",
        "CH - PJTech",
        "CH - PortalPJ",
        "CR - Descontos_Rotativos",
        "CR - Emprestimos_Financiamentos",
        "FL - Estrategia_PJ",
        "FL - Organizador_PJ",
        "FL - Pagamentos",
        "FL - Recebimentos",
        "PJ - Negocios_PJ_Cross",
        "PJ - Negocios_PJ_Eng"
       ]
      }
     }
    },
    "Periodo_Atualizacao": {
     "currentValue": "",
     "nuid": "0cb8e9e9-c83f-4c94-90d7-a130d82383a3",
     "typedWidgetInfo": {
      "autoCreated": false,
      "defaultValue": "",
      "label": null,
      "name": "Periodo_Atualizacao",
      "options": {
       "widgetDisplayType": "Dropdown",
       "choices": [
        "Diario",
        "Semanal",
        "Mensal",
        "Execucao Unica"
       ],
       "fixedDomain": false,
       "multiselect": false
      },
      "parameterDataType": "String"
     },
     "widgetInfo": {
      "widgetType": "combobox",
      "defaultValue": "",
      "label": null,
      "name": "Periodo_Atualizacao",
      "options": {
       "widgetType": "dropdown",
       "autoCreated": false,
       "choices": [
        "Diario",
        "Semanal",
        "Mensal",
        "Execucao Unica"
       ]
      }
     }
    },
    "Plataforma": {
     "currentValue": "",
     "nuid": "2f14f327-150d-4028-a4aa-5dc182053608",
     "typedWidgetInfo": {
      "autoCreated": false,
      "defaultValue": "",
      "label": null,
      "name": "Plataforma",
      "options": {
       "widgetDisplayType": "Dropdown",
       "choices": [
        "Denodo",
        "Exp Lake house",
        "Power_BI"
       ],
       "fixedDomain": false,
       "multiselect": false
      },
      "parameterDataType": "String"
     },
     "widgetInfo": {
      "widgetType": "combobox",
      "defaultValue": "",
      "label": null,
      "name": "Plataforma",
      "options": {
       "widgetType": "dropdown",
       "autoCreated": null,
       "choices": [
        "Denodo",
        "Exp Lake house",
        "Power_BI"
       ]
      }
     }
    }
   }
  },
  "language_info": {
   "name": "python"
  }
 },
 "nbformat": 4,
 "nbformat_minor": 0
}
